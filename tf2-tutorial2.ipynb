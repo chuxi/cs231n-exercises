{
 "cells": [
  {
   "cell_type": "code",
   "execution_count": 1,
   "metadata": {},
   "outputs": [
    {
     "name": "stdout",
     "output_type": "stream",
     "text": [
      "\u001b[33mYou are using pip version 18.0, however version 19.0.3 is available.\n",
      "You should consider upgrading via the 'pip install --upgrade pip' command.\u001b[0m\n",
      "2.0.0-alpha0\n"
     ]
    }
   ],
   "source": [
    "from __future__ import absolute_import, division, print_function, unicode_literals\n",
    "\n",
    "!pip install -q tensorflow==2.0.0-alpha0\n",
    "import tensorflow as tf\n",
    "from tensorflow import keras\n",
    "\n",
    "import numpy as np\n",
    "\n",
    "print(tf.__version__)"
   ]
  },
  {
   "cell_type": "code",
   "execution_count": 2,
   "metadata": {},
   "outputs": [
    {
     "name": "stdout",
     "output_type": "stream",
     "text": [
      "Downloading data from https://storage.googleapis.com/tensorflow/tf-keras-datasets/imdb.npz\n",
      "17465344/17464789 [==============================] - 6s 0us/step\n"
     ]
    }
   ],
   "source": [
    "imdb = keras.datasets.imdb\n",
    "\n",
    "(train_data, train_labels), (test_data, test_labels) = imdb.load_data(num_words=10000)"
   ]
  },
  {
   "cell_type": "code",
   "execution_count": 3,
   "metadata": {},
   "outputs": [
    {
     "name": "stdout",
     "output_type": "stream",
     "text": [
      "Downloading data from https://storage.googleapis.com/tensorflow/tf-keras-datasets/imdb_word_index.json\n",
      "1646592/1641221 [==============================] - 2s 1us/step\n"
     ]
    }
   ],
   "source": [
    "word_index = imdb.get_word_index()\n",
    "\n",
    "word_index = {k: (v+3) for k,v in word_index.items()}\n",
    "word_index[\"<PAD>\"] = 0\n",
    "word_index[\"<START>\"] = 1\n",
    "word_index[\"<UNK>\"] = 2\n",
    "word_index[\"<UNUSED>\"] = 3\n",
    "\n",
    "reverse_word_index = dict([(value, key) for (key, value) in word_index.items()])\n",
    "\n",
    "def decode_review(text):\n",
    "    return ' '.join([reverse_word_index.get(i, '?') for i in text])\n"
   ]
  },
  {
   "cell_type": "code",
   "execution_count": 4,
   "metadata": {},
   "outputs": [
    {
     "data": {
      "text/plain": [
       "\"<START> this film was just brilliant casting location scenery story direction everyone's really suited the part they played and you could just imagine being there robert <UNK> is an amazing actor and now the same being director <UNK> father came from the same scottish island as myself so i loved the fact there was a real connection with this film the witty remarks throughout the film were great it was just brilliant so much that i bought the film as soon as it was released for <UNK> and would recommend it to everyone to watch and the fly fishing was amazing really cried at the end it was so sad and you know what they say if you cry at a film it must have been good and this definitely was also <UNK> to the two little boy's that played the <UNK> of norman and paul they were just brilliant children are often left out of the <UNK> list i think because the stars that play them all grown up are such a big profile for the whole film but these children are amazing and should be praised for what they have done don't you think the whole story was so lovely because it was true and was someone's life after all that was shared with us all\""
      ]
     },
     "execution_count": 4,
     "metadata": {},
     "output_type": "execute_result"
    }
   ],
   "source": [
    "decode_review(train_data[0])"
   ]
  },
  {
   "cell_type": "code",
   "execution_count": 5,
   "metadata": {},
   "outputs": [],
   "source": [
    "train_data = keras.preprocessing.sequence.pad_sequences(train_data,\n",
    "                                                       value=word_index[\"<PAD>\"],\n",
    "                                                        padding='post',\n",
    "                                                        maxlen=256)\n",
    "\n",
    "test_data = keras.preprocessing.sequence.pad_sequences(test_data,\n",
    "                                                      value=word_index[\"<PAD>\"],\n",
    "                                                      padding='post',\n",
    "                                                      maxlen=256)\n"
   ]
  },
  {
   "cell_type": "code",
   "execution_count": 6,
   "metadata": {},
   "outputs": [
    {
     "name": "stdout",
     "output_type": "stream",
     "text": [
      "[   1   14   22   16   43  530  973 1622 1385   65  458 4468   66 3941\n",
      "    4  173   36  256    5   25  100   43  838  112   50  670    2    9\n",
      "   35  480  284    5  150    4  172  112  167    2  336  385   39    4\n",
      "  172 4536 1111   17  546   38   13  447    4  192   50   16    6  147\n",
      " 2025   19   14   22    4 1920 4613  469    4   22   71   87   12   16\n",
      "   43  530   38   76   15   13 1247    4   22   17  515   17   12   16\n",
      "  626   18    2    5   62  386   12    8  316    8  106    5    4 2223\n",
      " 5244   16  480   66 3785   33    4  130   12   16   38  619    5   25\n",
      "  124   51   36  135   48   25 1415   33    6   22   12  215   28   77\n",
      "   52    5   14  407   16   82    2    8    4  107  117 5952   15  256\n",
      "    4    2    7 3766    5  723   36   71   43  530  476   26  400  317\n",
      "   46    7    4    2 1029   13  104   88    4  381   15  297   98   32\n",
      " 2071   56   26  141    6  194 7486   18    4  226   22   21  134  476\n",
      "   26  480    5  144   30 5535   18   51   36   28  224   92   25  104\n",
      "    4  226   65   16   38 1334   88   12   16  283    5   16 4472  113\n",
      "  103   32   15   16 5345   19  178   32    0    0    0    0    0    0\n",
      "    0    0    0    0    0    0    0    0    0    0    0    0    0    0\n",
      "    0    0    0    0    0    0    0    0    0    0    0    0    0    0\n",
      "    0    0    0    0]\n"
     ]
    }
   ],
   "source": [
    "print(train_data[0])"
   ]
  },
  {
   "cell_type": "code",
   "execution_count": 7,
   "metadata": {},
   "outputs": [
    {
     "name": "stdout",
     "output_type": "stream",
     "text": [
      "Model: \"sequential\"\n",
      "_________________________________________________________________\n",
      "Layer (type)                 Output Shape              Param #   \n",
      "=================================================================\n",
      "embedding (Embedding)        (None, None, 16)          160000    \n",
      "_________________________________________________________________\n",
      "global_average_pooling1d (Gl (None, 16)                0         \n",
      "_________________________________________________________________\n",
      "dense (Dense)                (None, 16)                272       \n",
      "_________________________________________________________________\n",
      "dense_1 (Dense)              (None, 1)                 17        \n",
      "=================================================================\n",
      "Total params: 160,289\n",
      "Trainable params: 160,289\n",
      "Non-trainable params: 0\n",
      "_________________________________________________________________\n"
     ]
    }
   ],
   "source": [
    "vocab_size=10000\n",
    "model = keras.Sequential()\n",
    "model.add(keras.layers.Embedding(vocab_size, 16))\n",
    "model.add(keras.layers.GlobalAveragePooling1D())\n",
    "model.add(keras.layers.Dense(16, activation='relu'))\n",
    "model.add(keras.layers.Dense(1, activation='sigmoid'))\n",
    "\n",
    "model.summary()"
   ]
  },
  {
   "cell_type": "code",
   "execution_count": 8,
   "metadata": {},
   "outputs": [],
   "source": [
    "model.compile(optimizer='adam',\n",
    "             loss='binary_crossentropy',\n",
    "             metrics=['accuracy'])\n",
    "\n",
    "x_val = train_data[:10000]\n",
    "partial_x_train = train_data[10000:]\n",
    "\n",
    "y_val = train_labels[:10000]\n",
    "partial_y_train = train_labels[10000:]"
   ]
  },
  {
   "cell_type": "code",
   "execution_count": 9,
   "metadata": {},
   "outputs": [
    {
     "name": "stdout",
     "output_type": "stream",
     "text": [
      "Train on 15000 samples, validate on 10000 samples\n",
      "Epoch 1/40\n",
      "15000/15000 [==============================] - 1s 49us/sample - loss: 0.6928 - accuracy: 0.5385 - val_loss: 0.6921 - val_accuracy: 0.5780\n",
      "Epoch 2/40\n",
      "15000/15000 [==============================] - 0s 23us/sample - loss: 0.6902 - accuracy: 0.6319 - val_loss: 0.6880 - val_accuracy: 0.6913\n",
      "Epoch 3/40\n",
      "15000/15000 [==============================] - 0s 23us/sample - loss: 0.6838 - accuracy: 0.7296 - val_loss: 0.6798 - val_accuracy: 0.7371\n",
      "Epoch 4/40\n",
      "15000/15000 [==============================] - 0s 23us/sample - loss: 0.6721 - accuracy: 0.7502 - val_loss: 0.6657 - val_accuracy: 0.7383\n",
      "Epoch 5/40\n",
      "15000/15000 [==============================] - 0s 23us/sample - loss: 0.6524 - accuracy: 0.7745 - val_loss: 0.6431 - val_accuracy: 0.7614\n",
      "Epoch 6/40\n",
      "15000/15000 [==============================] - 0s 23us/sample - loss: 0.6232 - accuracy: 0.7909 - val_loss: 0.6130 - val_accuracy: 0.7813\n",
      "Epoch 7/40\n",
      "15000/15000 [==============================] - 0s 23us/sample - loss: 0.5864 - accuracy: 0.8041 - val_loss: 0.5765 - val_accuracy: 0.7929\n",
      "Epoch 8/40\n",
      "15000/15000 [==============================] - 0s 24us/sample - loss: 0.5453 - accuracy: 0.8237 - val_loss: 0.5383 - val_accuracy: 0.8108\n",
      "Epoch 9/40\n",
      "15000/15000 [==============================] - 0s 23us/sample - loss: 0.5020 - accuracy: 0.8371 - val_loss: 0.4992 - val_accuracy: 0.8248\n",
      "Epoch 10/40\n",
      "15000/15000 [==============================] - 0s 23us/sample - loss: 0.4600 - accuracy: 0.8527 - val_loss: 0.4635 - val_accuracy: 0.8351\n",
      "Epoch 11/40\n",
      "15000/15000 [==============================] - 0s 24us/sample - loss: 0.4220 - accuracy: 0.8621 - val_loss: 0.4321 - val_accuracy: 0.8456\n",
      "Epoch 12/40\n",
      "15000/15000 [==============================] - 0s 24us/sample - loss: 0.3887 - accuracy: 0.8737 - val_loss: 0.4070 - val_accuracy: 0.8488\n",
      "Epoch 13/40\n",
      "15000/15000 [==============================] - 0s 23us/sample - loss: 0.3611 - accuracy: 0.8821 - val_loss: 0.3840 - val_accuracy: 0.8565\n",
      "Epoch 14/40\n",
      "15000/15000 [==============================] - 0s 23us/sample - loss: 0.3364 - accuracy: 0.8889 - val_loss: 0.3670 - val_accuracy: 0.8619\n",
      "Epoch 15/40\n",
      "15000/15000 [==============================] - 0s 23us/sample - loss: 0.3163 - accuracy: 0.8922 - val_loss: 0.3524 - val_accuracy: 0.8683\n",
      "Epoch 16/40\n",
      "15000/15000 [==============================] - 0s 24us/sample - loss: 0.2983 - accuracy: 0.8979 - val_loss: 0.3407 - val_accuracy: 0.8689\n",
      "Epoch 17/40\n",
      "15000/15000 [==============================] - 0s 24us/sample - loss: 0.2823 - accuracy: 0.9027 - val_loss: 0.3310 - val_accuracy: 0.8719\n",
      "Epoch 18/40\n",
      "15000/15000 [==============================] - 0s 23us/sample - loss: 0.2682 - accuracy: 0.9085 - val_loss: 0.3223 - val_accuracy: 0.8742\n",
      "Epoch 19/40\n",
      "15000/15000 [==============================] - 0s 23us/sample - loss: 0.2557 - accuracy: 0.9111 - val_loss: 0.3152 - val_accuracy: 0.8771\n",
      "Epoch 20/40\n",
      "15000/15000 [==============================] - 0s 23us/sample - loss: 0.2444 - accuracy: 0.9154 - val_loss: 0.3101 - val_accuracy: 0.8774\n",
      "Epoch 21/40\n",
      "15000/15000 [==============================] - 0s 23us/sample - loss: 0.2334 - accuracy: 0.9195 - val_loss: 0.3055 - val_accuracy: 0.8781\n",
      "Epoch 22/40\n",
      "15000/15000 [==============================] - 0s 23us/sample - loss: 0.2239 - accuracy: 0.9226 - val_loss: 0.3005 - val_accuracy: 0.8813\n",
      "Epoch 23/40\n",
      "15000/15000 [==============================] - 0s 24us/sample - loss: 0.2145 - accuracy: 0.9259 - val_loss: 0.2980 - val_accuracy: 0.8819\n",
      "Epoch 24/40\n",
      "15000/15000 [==============================] - 0s 24us/sample - loss: 0.2063 - accuracy: 0.9289 - val_loss: 0.2947 - val_accuracy: 0.8817\n",
      "Epoch 25/40\n",
      "15000/15000 [==============================] - 0s 23us/sample - loss: 0.1979 - accuracy: 0.9323 - val_loss: 0.2916 - val_accuracy: 0.8835\n",
      "Epoch 26/40\n",
      "15000/15000 [==============================] - 0s 24us/sample - loss: 0.1906 - accuracy: 0.9351 - val_loss: 0.2907 - val_accuracy: 0.8826\n",
      "Epoch 27/40\n",
      "15000/15000 [==============================] - 0s 25us/sample - loss: 0.1835 - accuracy: 0.9391 - val_loss: 0.2888 - val_accuracy: 0.8838\n",
      "Epoch 28/40\n",
      "15000/15000 [==============================] - 0s 23us/sample - loss: 0.1767 - accuracy: 0.9423 - val_loss: 0.2877 - val_accuracy: 0.8848\n",
      "Epoch 29/40\n",
      "15000/15000 [==============================] - 0s 24us/sample - loss: 0.1710 - accuracy: 0.9441 - val_loss: 0.2874 - val_accuracy: 0.8840\n",
      "Epoch 30/40\n",
      "15000/15000 [==============================] - 0s 24us/sample - loss: 0.1649 - accuracy: 0.9469 - val_loss: 0.2862 - val_accuracy: 0.8846\n",
      "Epoch 31/40\n",
      "15000/15000 [==============================] - 0s 23us/sample - loss: 0.1586 - accuracy: 0.9497 - val_loss: 0.2859 - val_accuracy: 0.8854\n",
      "Epoch 32/40\n",
      "15000/15000 [==============================] - 0s 24us/sample - loss: 0.1530 - accuracy: 0.9533 - val_loss: 0.2859 - val_accuracy: 0.8857\n",
      "Epoch 33/40\n",
      "15000/15000 [==============================] - 0s 25us/sample - loss: 0.1475 - accuracy: 0.9551 - val_loss: 0.2868 - val_accuracy: 0.8857\n",
      "Epoch 34/40\n",
      "15000/15000 [==============================] - 0s 25us/sample - loss: 0.1427 - accuracy: 0.9569 - val_loss: 0.2874 - val_accuracy: 0.8868\n",
      "Epoch 35/40\n",
      "15000/15000 [==============================] - 0s 24us/sample - loss: 0.1385 - accuracy: 0.9576 - val_loss: 0.2881 - val_accuracy: 0.8868\n",
      "Epoch 36/40\n",
      "15000/15000 [==============================] - 0s 24us/sample - loss: 0.1333 - accuracy: 0.9603 - val_loss: 0.2892 - val_accuracy: 0.8870\n",
      "Epoch 37/40\n",
      "15000/15000 [==============================] - 0s 23us/sample - loss: 0.1287 - accuracy: 0.9627 - val_loss: 0.2907 - val_accuracy: 0.8869\n",
      "Epoch 38/40\n",
      "15000/15000 [==============================] - 0s 24us/sample - loss: 0.1244 - accuracy: 0.9637 - val_loss: 0.2926 - val_accuracy: 0.8856\n",
      "Epoch 39/40\n",
      "15000/15000 [==============================] - 0s 24us/sample - loss: 0.1209 - accuracy: 0.9646 - val_loss: 0.2946 - val_accuracy: 0.8860\n",
      "Epoch 40/40\n",
      "15000/15000 [==============================] - 0s 24us/sample - loss: 0.1166 - accuracy: 0.9673 - val_loss: 0.2959 - val_accuracy: 0.8853\n"
     ]
    }
   ],
   "source": [
    "history = model.fit(partial_x_train,\n",
    "                   partial_y_train,\n",
    "                   epochs=40,\n",
    "                   batch_size=512,\n",
    "                   validation_data=(x_val, y_val),\n",
    "                   verbose=1)"
   ]
  },
  {
   "cell_type": "code",
   "execution_count": 10,
   "metadata": {},
   "outputs": [
    {
     "name": "stdout",
     "output_type": "stream",
     "text": [
      "25000/25000 [==============================] - 1s 23us/sample - loss: 0.3136 - accuracy: 0.8744\n",
      "[0.3135972677230835, 0.87436]\n"
     ]
    }
   ],
   "source": [
    "results = model.evaluate(test_data, test_labels)\n",
    "\n",
    "print(results)"
   ]
  },
  {
   "cell_type": "code",
   "execution_count": 12,
   "metadata": {},
   "outputs": [
    {
     "data": {
      "image/png": "[encoded data removed]",
      "text/plain": [
       "<Figure size 432x288 with 1 Axes>"
      ]
     },
     "metadata": {
      "needs_background": "light"
     },
     "output_type": "display_data"
    }
   ],
   "source": [
    "import matplotlib.pyplot as plt\n",
    "\n",
    "history_dict = history.history\n",
    "acc = history_dict['accuracy']\n",
    "val_acc = history_dict['val_accuracy']\n",
    "loss = history_dict['loss']\n",
    "val_loss = history_dict['val_loss']\n",
    "\n",
    "epochs = range(1, len(acc) + 1)\n",
    "\n",
    "plt.plot(epochs, loss, 'bo', label='Training loss')\n",
    "plt.plot(epochs, val_loss, 'b', label='Validation loss')\n",
    "plt.title('Training and validation loss')\n",
    "plt.xlabel('Epochs')\n",
    "plt.ylabel('Loss')\n",
    "plt.legend()\n",
    "\n",
    "plt.show()"
   ]
  },
  {
   "cell_type": "code",
   "execution_count": 13,
   "metadata": {},
   "outputs": [
    {
     "data": {
      "image/png": "[encoded data removed]",
      "text/plain": [
       "<Figure size 432x288 with 1 Axes>"
      ]
     },
     "metadata": {
      "needs_background": "light"
     },
     "output_type": "display_data"
    }
   ],
   "source": [
    "plt.clf()   # clear figure\n",
    "\n",
    "plt.plot(epochs, acc, 'bo', label='Training acc')\n",
    "plt.plot(epochs, val_acc, 'b', label='Validation acc')\n",
    "plt.title('Training and validation accuracy')\n",
    "plt.xlabel('Epochs')\n",
    "plt.ylabel('Accuracy')\n",
    "plt.legend()\n",
    "\n",
    "plt.show()"
   ]
  },
  {
   "cell_type": "code",
   "execution_count": null,
   "metadata": {},
   "outputs": [],
   "source": []
  }
 ],
 "metadata": {
  "kernelspec": {
   "display_name": "Python 3",
   "language": "python",
   "name": "python3"
  },
  "language_info": {
   "codemirror_mode": {
    "name": "ipython",
    "version": 3
   },
   "file_extension": ".py",
   "mimetype": "text/x-python",
   "name": "python",
   "nbconvert_exporter": "python",
   "pygments_lexer": "ipython3",
   "version": "3.6.5"
  }
 },
 "nbformat": 4,
 "nbformat_minor": 2
}
